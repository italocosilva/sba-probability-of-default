{
 "cells": [
  {
   "cell_type": "code",
   "execution_count": 24,
   "id": "ea6e1666",
   "metadata": {},
   "outputs": [],
   "source": [
    "import numpy as np\n",
    "import pandas as pd\n",
    "\n",
    "import matplotlib.pyplot as plt\n",
    "import seaborn as sns\n",
    "\n",
    "from sklearn.preprocessing import FunctionTransformer, KBinsDiscretizer, OneHotEncoder\n",
    "from sklearn.compose import ColumnTransformer"
   ]
  },
  {
   "cell_type": "code",
   "execution_count": 25,
   "id": "9937f1f2",
   "metadata": {},
   "outputs": [],
   "source": [
    "# creates a custom data parser before load data (uses SAS timestamp)\n",
    "custom_date_parser = lambda x: pd.to_datetime(pd.to_numeric(x), origin='1960-01-01', unit='D')\n",
    "\n",
    "# load the data into a dataframe\n",
    "df = pd.read_csv('./data/SBAcase.11.13.17.csv', \n",
    "                 parse_dates=['ApprovalDate', 'DisbursementDate', 'ChgOffDate'], \n",
    "                 date_parser=custom_date_parser)\n",
    "\n",
    "# drop variables from EDA analysis\n",
    "df = df.drop(['Selected', 'daysterm', 'xx', 'ApprovalFY', 'NAICS', 'MIS_Status', 'ChgOffPrinGr', 'ChgOffDate',\n",
    "             'State', 'BalanceGross', 'Name', 'Zip', 'City', 'Bank', 'LoanNr_ChkDgt'], axis=1)"
   ]
  },
  {
   "cell_type": "code",
   "execution_count": 26,
   "id": "6380227a",
   "metadata": {},
   "outputs": [],
   "source": [
    "# adjusting 'NewExist' var and drop 'New' (duplicated info)\n",
    "NewExist = {1: \"Existing Business\", 2: \"New Business\", 0: np.nan}\n",
    "\n",
    "df.replace({\"NewExist\": NewExist}, inplace=True)\n",
    "df.drop(['New'], axis=1, inplace=True)"
   ]
  },
  {
   "cell_type": "code",
   "execution_count": 27,
   "id": "31620bb8",
   "metadata": {},
   "outputs": [],
   "source": [
    "# create a column 'Franchise' and drop FranchiseCode\n",
    "df['Franchise'] = df['FranchiseCode'].apply(lambda x: 'No franchise' if x in [0, 1] else 'Franchise')\n",
    "df.drop(['FranchiseCode'], axis=1, inplace=True)"
   ]
  },
  {
   "cell_type": "code",
   "execution_count": 28,
   "id": "c3a9fedb",
   "metadata": {},
   "outputs": [],
   "source": [
    "# adjusting 'UrbanRural' var\n",
    "UrbanRural = {1: \"Urban\", 2: \"Rural\", 0: np.nan}\n",
    "\n",
    "df.replace({\"UrbanRural\": UrbanRural}, inplace=True)"
   ]
  },
  {
   "cell_type": "code",
   "execution_count": 29,
   "id": "ba91b82f",
   "metadata": {},
   "outputs": [],
   "source": [
    "# categorical columns\n",
    "cat_cols = df.select_dtypes('object').columns"
   ]
  },
  {
   "cell_type": "code",
   "execution_count": 55,
   "id": "0f35be53",
   "metadata": {},
   "outputs": [],
   "source": [
    "# as macroeconomy changes overtime, it's usually a cycle, using dates to predict default can be dangerous\n",
    "# so I'll drop dates from the dateset (although I'll keep Recession flag)\n",
    "df.drop(['ApprovalDate', 'DisbursementDate'], axis=1, inplace=True)"
   ]
  },
  {
   "cell_type": "markdown",
   "id": "e17c780d",
   "metadata": {},
   "source": [
    "## 02. Train-Test-Split"
   ]
  },
  {
   "cell_type": "code",
   "execution_count": 58,
   "id": "9f60a3b1",
   "metadata": {},
   "outputs": [
    {
     "data": {
      "image/png": "[encoded data removed]",
      "text/plain": [
       "<Figure size 432x288 with 2 Axes>"
      ]
     },
     "metadata": {
      "needs_background": "light"
     },
     "output_type": "display_data"
    }
   ],
   "source": [
    "sns.heatmap(df.corr(), cmap='Blues');"
   ]
  },
  {
   "cell_type": "code",
   "execution_count": 57,
   "id": "e57a3a18",
   "metadata": {},
   "outputs": [
    {
     "data": {
      "text/plain": [
       "BankState             object\n",
       "Term                   int64\n",
       "NoEmp                  int64\n",
       "NewExist              object\n",
       "CreateJob              int64\n",
       "RetainedJob            int64\n",
       "UrbanRural            object\n",
       "RevLineCr             object\n",
       "LowDoc                object\n",
       "DisbursementGross      int64\n",
       "GrAppv                 int64\n",
       "SBA_Appv               int64\n",
       "RealEstate             int64\n",
       "Portion              float64\n",
       "Recession              int64\n",
       "Default                int64\n",
       "Franchise             object\n",
       "dtype: object"
      ]
     },
     "execution_count": 57,
     "metadata": {},
     "output_type": "execute_result"
    }
   ],
   "source": [
    "df.dtypes"
   ]
  },
  {
   "cell_type": "code",
   "execution_count": null,
   "id": "d6ef2681",
   "metadata": {},
   "outputs": [],
   "source": []
  }
 ],
 "metadata": {
  "kernelspec": {
   "display_name": "Python 3 (ipykernel)",
   "language": "python",
   "name": "python3"
  },
  "language_info": {
   "codemirror_mode": {
    "name": "ipython",
    "version": 3
   },
   "file_extension": ".py",
   "mimetype": "text/x-python",
   "name": "python",
   "nbconvert_exporter": "python",
   "pygments_lexer": "ipython3",
   "version": "3.8.8"
  }
 },
 "nbformat": 4,
 "nbformat_minor": 5
}
